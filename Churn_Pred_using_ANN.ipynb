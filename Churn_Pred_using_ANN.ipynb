{
  "cells": [
    {
      "cell_type": "markdown",
      "metadata": {
        "id": "view-in-github",
        "colab_type": "text"
      },
      "source": [
        "<a href=\"https://colab.research.google.com/github/SiddhantIQByte/Practice-DL-projects/blob/main/Churn_Pred_using_ANN.ipynb\" target=\"_parent\"><img src=\"https://colab.research.google.com/assets/colab-badge.svg\" alt=\"Open In Colab\"/></a>"
      ]
    },
    {
      "cell_type": "code",
      "execution_count": 33,
      "metadata": {
        "colab": {
          "base_uri": "https://localhost:8080/"
        },
        "id": "U9eM1VZwvPZt",
        "outputId": "0accf3a4-6dfd-4ff4-bc1c-56582ce05d10"
      },
      "outputs": [
        {
          "output_type": "stream",
          "name": "stdout",
          "text": [
            "2.15.0\n",
            "[PhysicalDevice(name='/physical_device:GPU:0', device_type='GPU')]\n"
          ]
        }
      ],
      "source": [
        "import tensorflow as tf\n",
        "\n",
        "#Check the version of TensorFlow you are using\n",
        "print(tf.__version__)\n",
        "print(tf.config.list_physical_devices('GPU'))"
      ]
    },
    {
      "cell_type": "markdown",
      "metadata": {
        "id": "pt-wBzdsw66o"
      },
      "source": [
        "# New section"
      ]
    },
    {
      "cell_type": "code",
      "execution_count": 34,
      "metadata": {
        "id": "Uzo40ZN9w9Gx"
      },
      "outputs": [],
      "source": [
        "import pandas as pd\n",
        "import numpy as np\n",
        "import matplotlib.pyplot as plt\n",
        "import seaborn as sns\n",
        "df= pd.read_csv('Churn_Modelling.csv')"
      ]
    },
    {
      "cell_type": "code",
      "execution_count": 35,
      "metadata": {
        "colab": {
          "base_uri": "https://localhost:8080/",
          "height": 163
        },
        "id": "E06n-F-FyfDc",
        "outputId": "4591cb7b-8daf-4be5-c099-4bdb72a0953f"
      },
      "outputs": [
        {
          "output_type": "execute_result",
          "data": {
            "text/plain": [
              "   RowNumber  CustomerId   Surname  CreditScore Geography  Gender  Age  \\\n",
              "0          1    15634602  Hargrave          619    France  Female   42   \n",
              "1          2    15647311      Hill          608     Spain  Female   41   \n",
              "2          3    15619304      Onio          502    France  Female   42   \n",
              "\n",
              "   Tenure    Balance  NumOfProducts  HasCrCard  IsActiveMember  \\\n",
              "0       2       0.00              1          1               1   \n",
              "1       1   83807.86              1          0               1   \n",
              "2       8  159660.80              3          1               0   \n",
              "\n",
              "   EstimatedSalary  Exited  \n",
              "0        101348.88       1  \n",
              "1        112542.58       0  \n",
              "2        113931.57       1  "
            ],
            "text/html": [
              "\n",
              "  <div id=\"df-025b3099-8458-42f8-bee7-0b6ee596c8ae\" class=\"colab-df-container\">\n",
              "    <div>\n",
              "<style scoped>\n",
              "    .dataframe tbody tr th:only-of-type {\n",
              "        vertical-align: middle;\n",
              "    }\n",
              "\n",
              "    .dataframe tbody tr th {\n",
              "        vertical-align: top;\n",
              "    }\n",
              "\n",
              "    .dataframe thead th {\n",
              "        text-align: right;\n",
              "    }\n",
              "</style>\n",
              "<table border=\"1\" class=\"dataframe\">\n",
              "  <thead>\n",
              "    <tr style=\"text-align: right;\">\n",
              "      <th></th>\n",
              "      <th>RowNumber</th>\n",
              "      <th>CustomerId</th>\n",
              "      <th>Surname</th>\n",
              "      <th>CreditScore</th>\n",
              "      <th>Geography</th>\n",
              "      <th>Gender</th>\n",
              "      <th>Age</th>\n",
              "      <th>Tenure</th>\n",
              "      <th>Balance</th>\n",
              "      <th>NumOfProducts</th>\n",
              "      <th>HasCrCard</th>\n",
              "      <th>IsActiveMember</th>\n",
              "      <th>EstimatedSalary</th>\n",
              "      <th>Exited</th>\n",
              "    </tr>\n",
              "  </thead>\n",
              "  <tbody>\n",
              "    <tr>\n",
              "      <th>0</th>\n",
              "      <td>1</td>\n",
              "      <td>15634602</td>\n",
              "      <td>Hargrave</td>\n",
              "      <td>619</td>\n",
              "      <td>France</td>\n",
              "      <td>Female</td>\n",
              "      <td>42</td>\n",
              "      <td>2</td>\n",
              "      <td>0.00</td>\n",
              "      <td>1</td>\n",
              "      <td>1</td>\n",
              "      <td>1</td>\n",
              "      <td>101348.88</td>\n",
              "      <td>1</td>\n",
              "    </tr>\n",
              "    <tr>\n",
              "      <th>1</th>\n",
              "      <td>2</td>\n",
              "      <td>15647311</td>\n",
              "      <td>Hill</td>\n",
              "      <td>608</td>\n",
              "      <td>Spain</td>\n",
              "      <td>Female</td>\n",
              "      <td>41</td>\n",
              "      <td>1</td>\n",
              "      <td>83807.86</td>\n",
              "      <td>1</td>\n",
              "      <td>0</td>\n",
              "      <td>1</td>\n",
              "      <td>112542.58</td>\n",
              "      <td>0</td>\n",
              "    </tr>\n",
              "    <tr>\n",
              "      <th>2</th>\n",
              "      <td>3</td>\n",
              "      <td>15619304</td>\n",
              "      <td>Onio</td>\n",
              "      <td>502</td>\n",
              "      <td>France</td>\n",
              "      <td>Female</td>\n",
              "      <td>42</td>\n",
              "      <td>8</td>\n",
              "      <td>159660.80</td>\n",
              "      <td>3</td>\n",
              "      <td>1</td>\n",
              "      <td>0</td>\n",
              "      <td>113931.57</td>\n",
              "      <td>1</td>\n",
              "    </tr>\n",
              "  </tbody>\n",
              "</table>\n",
              "</div>\n",
              "    <div class=\"colab-df-buttons\">\n",
              "\n",
              "  <div class=\"colab-df-container\">\n",
              "    <button class=\"colab-df-convert\" onclick=\"convertToInteractive('df-025b3099-8458-42f8-bee7-0b6ee596c8ae')\"\n",
              "            title=\"Convert this dataframe to an interactive table.\"\n",
              "            style=\"display:none;\">\n",
              "\n",
              "  <svg xmlns=\"http://www.w3.org/2000/svg\" height=\"24px\" viewBox=\"0 -960 960 960\">\n",
              "    <path d=\"M120-120v-720h720v720H120Zm60-500h600v-160H180v160Zm220 220h160v-160H400v160Zm0 220h160v-160H400v160ZM180-400h160v-160H180v160Zm440 0h160v-160H620v160ZM180-180h160v-160H180v160Zm440 0h160v-160H620v160Z\"/>\n",
              "  </svg>\n",
              "    </button>\n",
              "\n",
              "  <style>\n",
              "    .colab-df-container {\n",
              "      display:flex;\n",
              "      gap: 12px;\n",
              "    }\n",
              "\n",
              "    .colab-df-convert {\n",
              "      background-color: #E8F0FE;\n",
              "      border: none;\n",
              "      border-radius: 50%;\n",
              "      cursor: pointer;\n",
              "      display: none;\n",
              "      fill: #1967D2;\n",
              "      height: 32px;\n",
              "      padding: 0 0 0 0;\n",
              "      width: 32px;\n",
              "    }\n",
              "\n",
              "    .colab-df-convert:hover {\n",
              "      background-color: #E2EBFA;\n",
              "      box-shadow: 0px 1px 2px rgba(60, 64, 67, 0.3), 0px 1px 3px 1px rgba(60, 64, 67, 0.15);\n",
              "      fill: #174EA6;\n",
              "    }\n",
              "\n",
              "    .colab-df-buttons div {\n",
              "      margin-bottom: 4px;\n",
              "    }\n",
              "\n",
              "    [theme=dark] .colab-df-convert {\n",
              "      background-color: #3B4455;\n",
              "      fill: #D2E3FC;\n",
              "    }\n",
              "\n",
              "    [theme=dark] .colab-df-convert:hover {\n",
              "      background-color: #434B5C;\n",
              "      box-shadow: 0px 1px 3px 1px rgba(0, 0, 0, 0.15);\n",
              "      filter: drop-shadow(0px 1px 2px rgba(0, 0, 0, 0.3));\n",
              "      fill: #FFFFFF;\n",
              "    }\n",
              "  </style>\n",
              "\n",
              "    <script>\n",
              "      const buttonEl =\n",
              "        document.querySelector('#df-025b3099-8458-42f8-bee7-0b6ee596c8ae button.colab-df-convert');\n",
              "      buttonEl.style.display =\n",
              "        google.colab.kernel.accessAllowed ? 'block' : 'none';\n",
              "\n",
              "      async function convertToInteractive(key) {\n",
              "        const element = document.querySelector('#df-025b3099-8458-42f8-bee7-0b6ee596c8ae');\n",
              "        const dataTable =\n",
              "          await google.colab.kernel.invokeFunction('convertToInteractive',\n",
              "                                                    [key], {});\n",
              "        if (!dataTable) return;\n",
              "\n",
              "        const docLinkHtml = 'Like what you see? Visit the ' +\n",
              "          '<a target=\"_blank\" href=https://colab.research.google.com/notebooks/data_table.ipynb>data table notebook</a>'\n",
              "          + ' to learn more about interactive tables.';\n",
              "        element.innerHTML = '';\n",
              "        dataTable['output_type'] = 'display_data';\n",
              "        await google.colab.output.renderOutput(dataTable, element);\n",
              "        const docLink = document.createElement('div');\n",
              "        docLink.innerHTML = docLinkHtml;\n",
              "        element.appendChild(docLink);\n",
              "      }\n",
              "    </script>\n",
              "  </div>\n",
              "\n",
              "\n",
              "<div id=\"df-625bc00c-e250-42b6-957a-2ebecc66fdf2\">\n",
              "  <button class=\"colab-df-quickchart\" onclick=\"quickchart('df-625bc00c-e250-42b6-957a-2ebecc66fdf2')\"\n",
              "            title=\"Suggest charts\"\n",
              "            style=\"display:none;\">\n",
              "\n",
              "<svg xmlns=\"http://www.w3.org/2000/svg\" height=\"24px\"viewBox=\"0 0 24 24\"\n",
              "     width=\"24px\">\n",
              "    <g>\n",
              "        <path d=\"M19 3H5c-1.1 0-2 .9-2 2v14c0 1.1.9 2 2 2h14c1.1 0 2-.9 2-2V5c0-1.1-.9-2-2-2zM9 17H7v-7h2v7zm4 0h-2V7h2v10zm4 0h-2v-4h2v4z\"/>\n",
              "    </g>\n",
              "</svg>\n",
              "  </button>\n",
              "\n",
              "<style>\n",
              "  .colab-df-quickchart {\n",
              "      --bg-color: #E8F0FE;\n",
              "      --fill-color: #1967D2;\n",
              "      --hover-bg-color: #E2EBFA;\n",
              "      --hover-fill-color: #174EA6;\n",
              "      --disabled-fill-color: #AAA;\n",
              "      --disabled-bg-color: #DDD;\n",
              "  }\n",
              "\n",
              "  [theme=dark] .colab-df-quickchart {\n",
              "      --bg-color: #3B4455;\n",
              "      --fill-color: #D2E3FC;\n",
              "      --hover-bg-color: #434B5C;\n",
              "      --hover-fill-color: #FFFFFF;\n",
              "      --disabled-bg-color: #3B4455;\n",
              "      --disabled-fill-color: #666;\n",
              "  }\n",
              "\n",
              "  .colab-df-quickchart {\n",
              "    background-color: var(--bg-color);\n",
              "    border: none;\n",
              "    border-radius: 50%;\n",
              "    cursor: pointer;\n",
              "    display: none;\n",
              "    fill: var(--fill-color);\n",
              "    height: 32px;\n",
              "    padding: 0;\n",
              "    width: 32px;\n",
              "  }\n",
              "\n",
              "  .colab-df-quickchart:hover {\n",
              "    background-color: var(--hover-bg-color);\n",
              "    box-shadow: 0 1px 2px rgba(60, 64, 67, 0.3), 0 1px 3px 1px rgba(60, 64, 67, 0.15);\n",
              "    fill: var(--button-hover-fill-color);\n",
              "  }\n",
              "\n",
              "  .colab-df-quickchart-complete:disabled,\n",
              "  .colab-df-quickchart-complete:disabled:hover {\n",
              "    background-color: var(--disabled-bg-color);\n",
              "    fill: var(--disabled-fill-color);\n",
              "    box-shadow: none;\n",
              "  }\n",
              "\n",
              "  .colab-df-spinner {\n",
              "    border: 2px solid var(--fill-color);\n",
              "    border-color: transparent;\n",
              "    border-bottom-color: var(--fill-color);\n",
              "    animation:\n",
              "      spin 1s steps(1) infinite;\n",
              "  }\n",
              "\n",
              "  @keyframes spin {\n",
              "    0% {\n",
              "      border-color: transparent;\n",
              "      border-bottom-color: var(--fill-color);\n",
              "      border-left-color: var(--fill-color);\n",
              "    }\n",
              "    20% {\n",
              "      border-color: transparent;\n",
              "      border-left-color: var(--fill-color);\n",
              "      border-top-color: var(--fill-color);\n",
              "    }\n",
              "    30% {\n",
              "      border-color: transparent;\n",
              "      border-left-color: var(--fill-color);\n",
              "      border-top-color: var(--fill-color);\n",
              "      border-right-color: var(--fill-color);\n",
              "    }\n",
              "    40% {\n",
              "      border-color: transparent;\n",
              "      border-right-color: var(--fill-color);\n",
              "      border-top-color: var(--fill-color);\n",
              "    }\n",
              "    60% {\n",
              "      border-color: transparent;\n",
              "      border-right-color: var(--fill-color);\n",
              "    }\n",
              "    80% {\n",
              "      border-color: transparent;\n",
              "      border-right-color: var(--fill-color);\n",
              "      border-bottom-color: var(--fill-color);\n",
              "    }\n",
              "    90% {\n",
              "      border-color: transparent;\n",
              "      border-bottom-color: var(--fill-color);\n",
              "    }\n",
              "  }\n",
              "</style>\n",
              "\n",
              "  <script>\n",
              "    async function quickchart(key) {\n",
              "      const quickchartButtonEl =\n",
              "        document.querySelector('#' + key + ' button');\n",
              "      quickchartButtonEl.disabled = true;  // To prevent multiple clicks.\n",
              "      quickchartButtonEl.classList.add('colab-df-spinner');\n",
              "      try {\n",
              "        const charts = await google.colab.kernel.invokeFunction(\n",
              "            'suggestCharts', [key], {});\n",
              "      } catch (error) {\n",
              "        console.error('Error during call to suggestCharts:', error);\n",
              "      }\n",
              "      quickchartButtonEl.classList.remove('colab-df-spinner');\n",
              "      quickchartButtonEl.classList.add('colab-df-quickchart-complete');\n",
              "    }\n",
              "    (() => {\n",
              "      let quickchartButtonEl =\n",
              "        document.querySelector('#df-625bc00c-e250-42b6-957a-2ebecc66fdf2 button');\n",
              "      quickchartButtonEl.style.display =\n",
              "        google.colab.kernel.accessAllowed ? 'block' : 'none';\n",
              "    })();\n",
              "  </script>\n",
              "</div>\n",
              "\n",
              "    </div>\n",
              "  </div>\n"
            ]
          },
          "metadata": {},
          "execution_count": 35
        }
      ],
      "source": [
        "df.head(3)"
      ]
    },
    {
      "cell_type": "code",
      "execution_count": 36,
      "metadata": {
        "id": "uoxsrklCyv6z"
      },
      "outputs": [],
      "source": [
        "## Divide the dataset into ind and dep features"
      ]
    },
    {
      "cell_type": "code",
      "execution_count": 37,
      "metadata": {
        "id": "A6IsJ5i_8Pze"
      },
      "outputs": [],
      "source": [
        "X=df.iloc[:,3:13]\n",
        "y=df.iloc[:,13]"
      ]
    },
    {
      "cell_type": "code",
      "execution_count": 38,
      "metadata": {
        "colab": {
          "base_uri": "https://localhost:8080/",
          "height": 143
        },
        "id": "ZcsGKJP_80Xf",
        "outputId": "bc3a17a7-16ce-4c35-a7ca-8a73b5fa4a76"
      },
      "outputs": [
        {
          "output_type": "execute_result",
          "data": {
            "text/plain": [
              "   CreditScore Geography  Gender  Age  Tenure    Balance  NumOfProducts  \\\n",
              "0          619    France  Female   42       2       0.00              1   \n",
              "1          608     Spain  Female   41       1   83807.86              1   \n",
              "2          502    France  Female   42       8  159660.80              3   \n",
              "\n",
              "   HasCrCard  IsActiveMember  EstimatedSalary  \n",
              "0          1               1        101348.88  \n",
              "1          0               1        112542.58  \n",
              "2          1               0        113931.57  "
            ],
            "text/html": [
              "\n",
              "  <div id=\"df-d5717c7e-c01f-4002-8005-532d65cf1898\" class=\"colab-df-container\">\n",
              "    <div>\n",
              "<style scoped>\n",
              "    .dataframe tbody tr th:only-of-type {\n",
              "        vertical-align: middle;\n",
              "    }\n",
              "\n",
              "    .dataframe tbody tr th {\n",
              "        vertical-align: top;\n",
              "    }\n",
              "\n",
              "    .dataframe thead th {\n",
              "        text-align: right;\n",
              "    }\n",
              "</style>\n",
              "<table border=\"1\" class=\"dataframe\">\n",
              "  <thead>\n",
              "    <tr style=\"text-align: right;\">\n",
              "      <th></th>\n",
              "      <th>CreditScore</th>\n",
              "      <th>Geography</th>\n",
              "      <th>Gender</th>\n",
              "      <th>Age</th>\n",
              "      <th>Tenure</th>\n",
              "      <th>Balance</th>\n",
              "      <th>NumOfProducts</th>\n",
              "      <th>HasCrCard</th>\n",
              "      <th>IsActiveMember</th>\n",
              "      <th>EstimatedSalary</th>\n",
              "    </tr>\n",
              "  </thead>\n",
              "  <tbody>\n",
              "    <tr>\n",
              "      <th>0</th>\n",
              "      <td>619</td>\n",
              "      <td>France</td>\n",
              "      <td>Female</td>\n",
              "      <td>42</td>\n",
              "      <td>2</td>\n",
              "      <td>0.00</td>\n",
              "      <td>1</td>\n",
              "      <td>1</td>\n",
              "      <td>1</td>\n",
              "      <td>101348.88</td>\n",
              "    </tr>\n",
              "    <tr>\n",
              "      <th>1</th>\n",
              "      <td>608</td>\n",
              "      <td>Spain</td>\n",
              "      <td>Female</td>\n",
              "      <td>41</td>\n",
              "      <td>1</td>\n",
              "      <td>83807.86</td>\n",
              "      <td>1</td>\n",
              "      <td>0</td>\n",
              "      <td>1</td>\n",
              "      <td>112542.58</td>\n",
              "    </tr>\n",
              "    <tr>\n",
              "      <th>2</th>\n",
              "      <td>502</td>\n",
              "      <td>France</td>\n",
              "      <td>Female</td>\n",
              "      <td>42</td>\n",
              "      <td>8</td>\n",
              "      <td>159660.80</td>\n",
              "      <td>3</td>\n",
              "      <td>1</td>\n",
              "      <td>0</td>\n",
              "      <td>113931.57</td>\n",
              "    </tr>\n",
              "  </tbody>\n",
              "</table>\n",
              "</div>\n",
              "    <div class=\"colab-df-buttons\">\n",
              "\n",
              "  <div class=\"colab-df-container\">\n",
              "    <button class=\"colab-df-convert\" onclick=\"convertToInteractive('df-d5717c7e-c01f-4002-8005-532d65cf1898')\"\n",
              "            title=\"Convert this dataframe to an interactive table.\"\n",
              "            style=\"display:none;\">\n",
              "\n",
              "  <svg xmlns=\"http://www.w3.org/2000/svg\" height=\"24px\" viewBox=\"0 -960 960 960\">\n",
              "    <path d=\"M120-120v-720h720v720H120Zm60-500h600v-160H180v160Zm220 220h160v-160H400v160Zm0 220h160v-160H400v160ZM180-400h160v-160H180v160Zm440 0h160v-160H620v160ZM180-180h160v-160H180v160Zm440 0h160v-160H620v160Z\"/>\n",
              "  </svg>\n",
              "    </button>\n",
              "\n",
              "  <style>\n",
              "    .colab-df-container {\n",
              "      display:flex;\n",
              "      gap: 12px;\n",
              "    }\n",
              "\n",
              "    .colab-df-convert {\n",
              "      background-color: #E8F0FE;\n",
              "      border: none;\n",
              "      border-radius: 50%;\n",
              "      cursor: pointer;\n",
              "      display: none;\n",
              "      fill: #1967D2;\n",
              "      height: 32px;\n",
              "      padding: 0 0 0 0;\n",
              "      width: 32px;\n",
              "    }\n",
              "\n",
              "    .colab-df-convert:hover {\n",
              "      background-color: #E2EBFA;\n",
              "      box-shadow: 0px 1px 2px rgba(60, 64, 67, 0.3), 0px 1px 3px 1px rgba(60, 64, 67, 0.15);\n",
              "      fill: #174EA6;\n",
              "    }\n",
              "\n",
              "    .colab-df-buttons div {\n",
              "      margin-bottom: 4px;\n",
              "    }\n",
              "\n",
              "    [theme=dark] .colab-df-convert {\n",
              "      background-color: #3B4455;\n",
              "      fill: #D2E3FC;\n",
              "    }\n",
              "\n",
              "    [theme=dark] .colab-df-convert:hover {\n",
              "      background-color: #434B5C;\n",
              "      box-shadow: 0px 1px 3px 1px rgba(0, 0, 0, 0.15);\n",
              "      filter: drop-shadow(0px 1px 2px rgba(0, 0, 0, 0.3));\n",
              "      fill: #FFFFFF;\n",
              "    }\n",
              "  </style>\n",
              "\n",
              "    <script>\n",
              "      const buttonEl =\n",
              "        document.querySelector('#df-d5717c7e-c01f-4002-8005-532d65cf1898 button.colab-df-convert');\n",
              "      buttonEl.style.display =\n",
              "        google.colab.kernel.accessAllowed ? 'block' : 'none';\n",
              "\n",
              "      async function convertToInteractive(key) {\n",
              "        const element = document.querySelector('#df-d5717c7e-c01f-4002-8005-532d65cf1898');\n",
              "        const dataTable =\n",
              "          await google.colab.kernel.invokeFunction('convertToInteractive',\n",
              "                                                    [key], {});\n",
              "        if (!dataTable) return;\n",
              "\n",
              "        const docLinkHtml = 'Like what you see? Visit the ' +\n",
              "          '<a target=\"_blank\" href=https://colab.research.google.com/notebooks/data_table.ipynb>data table notebook</a>'\n",
              "          + ' to learn more about interactive tables.';\n",
              "        element.innerHTML = '';\n",
              "        dataTable['output_type'] = 'display_data';\n",
              "        await google.colab.output.renderOutput(dataTable, element);\n",
              "        const docLink = document.createElement('div');\n",
              "        docLink.innerHTML = docLinkHtml;\n",
              "        element.appendChild(docLink);\n",
              "      }\n",
              "    </script>\n",
              "  </div>\n",
              "\n",
              "\n",
              "<div id=\"df-eea61b69-35a2-405b-9426-601541a5e409\">\n",
              "  <button class=\"colab-df-quickchart\" onclick=\"quickchart('df-eea61b69-35a2-405b-9426-601541a5e409')\"\n",
              "            title=\"Suggest charts\"\n",
              "            style=\"display:none;\">\n",
              "\n",
              "<svg xmlns=\"http://www.w3.org/2000/svg\" height=\"24px\"viewBox=\"0 0 24 24\"\n",
              "     width=\"24px\">\n",
              "    <g>\n",
              "        <path d=\"M19 3H5c-1.1 0-2 .9-2 2v14c0 1.1.9 2 2 2h14c1.1 0 2-.9 2-2V5c0-1.1-.9-2-2-2zM9 17H7v-7h2v7zm4 0h-2V7h2v10zm4 0h-2v-4h2v4z\"/>\n",
              "    </g>\n",
              "</svg>\n",
              "  </button>\n",
              "\n",
              "<style>\n",
              "  .colab-df-quickchart {\n",
              "      --bg-color: #E8F0FE;\n",
              "      --fill-color: #1967D2;\n",
              "      --hover-bg-color: #E2EBFA;\n",
              "      --hover-fill-color: #174EA6;\n",
              "      --disabled-fill-color: #AAA;\n",
              "      --disabled-bg-color: #DDD;\n",
              "  }\n",
              "\n",
              "  [theme=dark] .colab-df-quickchart {\n",
              "      --bg-color: #3B4455;\n",
              "      --fill-color: #D2E3FC;\n",
              "      --hover-bg-color: #434B5C;\n",
              "      --hover-fill-color: #FFFFFF;\n",
              "      --disabled-bg-color: #3B4455;\n",
              "      --disabled-fill-color: #666;\n",
              "  }\n",
              "\n",
              "  .colab-df-quickchart {\n",
              "    background-color: var(--bg-color);\n",
              "    border: none;\n",
              "    border-radius: 50%;\n",
              "    cursor: pointer;\n",
              "    display: none;\n",
              "    fill: var(--fill-color);\n",
              "    height: 32px;\n",
              "    padding: 0;\n",
              "    width: 32px;\n",
              "  }\n",
              "\n",
              "  .colab-df-quickchart:hover {\n",
              "    background-color: var(--hover-bg-color);\n",
              "    box-shadow: 0 1px 2px rgba(60, 64, 67, 0.3), 0 1px 3px 1px rgba(60, 64, 67, 0.15);\n",
              "    fill: var(--button-hover-fill-color);\n",
              "  }\n",
              "\n",
              "  .colab-df-quickchart-complete:disabled,\n",
              "  .colab-df-quickchart-complete:disabled:hover {\n",
              "    background-color: var(--disabled-bg-color);\n",
              "    fill: var(--disabled-fill-color);\n",
              "    box-shadow: none;\n",
              "  }\n",
              "\n",
              "  .colab-df-spinner {\n",
              "    border: 2px solid var(--fill-color);\n",
              "    border-color: transparent;\n",
              "    border-bottom-color: var(--fill-color);\n",
              "    animation:\n",
              "      spin 1s steps(1) infinite;\n",
              "  }\n",
              "\n",
              "  @keyframes spin {\n",
              "    0% {\n",
              "      border-color: transparent;\n",
              "      border-bottom-color: var(--fill-color);\n",
              "      border-left-color: var(--fill-color);\n",
              "    }\n",
              "    20% {\n",
              "      border-color: transparent;\n",
              "      border-left-color: var(--fill-color);\n",
              "      border-top-color: var(--fill-color);\n",
              "    }\n",
              "    30% {\n",
              "      border-color: transparent;\n",
              "      border-left-color: var(--fill-color);\n",
              "      border-top-color: var(--fill-color);\n",
              "      border-right-color: var(--fill-color);\n",
              "    }\n",
              "    40% {\n",
              "      border-color: transparent;\n",
              "      border-right-color: var(--fill-color);\n",
              "      border-top-color: var(--fill-color);\n",
              "    }\n",
              "    60% {\n",
              "      border-color: transparent;\n",
              "      border-right-color: var(--fill-color);\n",
              "    }\n",
              "    80% {\n",
              "      border-color: transparent;\n",
              "      border-right-color: var(--fill-color);\n",
              "      border-bottom-color: var(--fill-color);\n",
              "    }\n",
              "    90% {\n",
              "      border-color: transparent;\n",
              "      border-bottom-color: var(--fill-color);\n",
              "    }\n",
              "  }\n",
              "</style>\n",
              "\n",
              "  <script>\n",
              "    async function quickchart(key) {\n",
              "      const quickchartButtonEl =\n",
              "        document.querySelector('#' + key + ' button');\n",
              "      quickchartButtonEl.disabled = true;  // To prevent multiple clicks.\n",
              "      quickchartButtonEl.classList.add('colab-df-spinner');\n",
              "      try {\n",
              "        const charts = await google.colab.kernel.invokeFunction(\n",
              "            'suggestCharts', [key], {});\n",
              "      } catch (error) {\n",
              "        console.error('Error during call to suggestCharts:', error);\n",
              "      }\n",
              "      quickchartButtonEl.classList.remove('colab-df-spinner');\n",
              "      quickchartButtonEl.classList.add('colab-df-quickchart-complete');\n",
              "    }\n",
              "    (() => {\n",
              "      let quickchartButtonEl =\n",
              "        document.querySelector('#df-eea61b69-35a2-405b-9426-601541a5e409 button');\n",
              "      quickchartButtonEl.style.display =\n",
              "        google.colab.kernel.accessAllowed ? 'block' : 'none';\n",
              "    })();\n",
              "  </script>\n",
              "</div>\n",
              "\n",
              "    </div>\n",
              "  </div>\n"
            ]
          },
          "metadata": {},
          "execution_count": 38
        }
      ],
      "source": [
        "X.head(3)"
      ]
    },
    {
      "cell_type": "code",
      "execution_count": 39,
      "metadata": {
        "colab": {
          "base_uri": "https://localhost:8080/"
        },
        "id": "Jla3hzOP82xZ",
        "outputId": "c1f6abba-4e0c-4fe7-a0f3-02079af3d5ec"
      },
      "outputs": [
        {
          "output_type": "execute_result",
          "data": {
            "text/plain": [
              "0       1\n",
              "1       0\n",
              "2       1\n",
              "3       0\n",
              "4       0\n",
              "       ..\n",
              "9995    0\n",
              "9996    0\n",
              "9997    1\n",
              "9998    1\n",
              "9999    0\n",
              "Name: Exited, Length: 10000, dtype: int64"
            ]
          },
          "metadata": {},
          "execution_count": 39
        }
      ],
      "source": [
        "y"
      ]
    },
    {
      "cell_type": "code",
      "execution_count": 40,
      "metadata": {
        "id": "aZV73nPo86LC"
      },
      "outputs": [],
      "source": [
        "## Feature Eng"
      ]
    },
    {
      "cell_type": "code",
      "execution_count": 41,
      "metadata": {
        "id": "PJAlvtd09GjQ"
      },
      "outputs": [],
      "source": [
        "geography=pd.get_dummies(X['Geography'], drop_first =True)\n",
        "gender=pd.get_dummies(X['Gender'], drop_first =True)"
      ]
    },
    {
      "cell_type": "code",
      "execution_count": 42,
      "metadata": {
        "colab": {
          "base_uri": "https://localhost:8080/",
          "height": 424
        },
        "id": "uGPEhmO_9T7f",
        "outputId": "802ce3f0-e70f-46b5-9218-ce707c4a4a9a"
      },
      "outputs": [
        {
          "output_type": "execute_result",
          "data": {
            "text/plain": [
              "      Male\n",
              "0        0\n",
              "1        0\n",
              "2        0\n",
              "3        0\n",
              "4        0\n",
              "...    ...\n",
              "9995     1\n",
              "9996     1\n",
              "9997     0\n",
              "9998     1\n",
              "9999     0\n",
              "\n",
              "[10000 rows x 1 columns]"
            ],
            "text/html": [
              "\n",
              "  <div id=\"df-9dbd5832-dfe1-46e2-8f2a-28258f396ea4\" class=\"colab-df-container\">\n",
              "    <div>\n",
              "<style scoped>\n",
              "    .dataframe tbody tr th:only-of-type {\n",
              "        vertical-align: middle;\n",
              "    }\n",
              "\n",
              "    .dataframe tbody tr th {\n",
              "        vertical-align: top;\n",
              "    }\n",
              "\n",
              "    .dataframe thead th {\n",
              "        text-align: right;\n",
              "    }\n",
              "</style>\n",
              "<table border=\"1\" class=\"dataframe\">\n",
              "  <thead>\n",
              "    <tr style=\"text-align: right;\">\n",
              "      <th></th>\n",
              "      <th>Male</th>\n",
              "    </tr>\n",
              "  </thead>\n",
              "  <tbody>\n",
              "    <tr>\n",
              "      <th>0</th>\n",
              "      <td>0</td>\n",
              "    </tr>\n",
              "    <tr>\n",
              "      <th>1</th>\n",
              "      <td>0</td>\n",
              "    </tr>\n",
              "    <tr>\n",
              "      <th>2</th>\n",
              "      <td>0</td>\n",
              "    </tr>\n",
              "    <tr>\n",
              "      <th>3</th>\n",
              "      <td>0</td>\n",
              "    </tr>\n",
              "    <tr>\n",
              "      <th>4</th>\n",
              "      <td>0</td>\n",
              "    </tr>\n",
              "    <tr>\n",
              "      <th>...</th>\n",
              "      <td>...</td>\n",
              "    </tr>\n",
              "    <tr>\n",
              "      <th>9995</th>\n",
              "      <td>1</td>\n",
              "    </tr>\n",
              "    <tr>\n",
              "      <th>9996</th>\n",
              "      <td>1</td>\n",
              "    </tr>\n",
              "    <tr>\n",
              "      <th>9997</th>\n",
              "      <td>0</td>\n",
              "    </tr>\n",
              "    <tr>\n",
              "      <th>9998</th>\n",
              "      <td>1</td>\n",
              "    </tr>\n",
              "    <tr>\n",
              "      <th>9999</th>\n",
              "      <td>0</td>\n",
              "    </tr>\n",
              "  </tbody>\n",
              "</table>\n",
              "<p>10000 rows × 1 columns</p>\n",
              "</div>\n",
              "    <div class=\"colab-df-buttons\">\n",
              "\n",
              "  <div class=\"colab-df-container\">\n",
              "    <button class=\"colab-df-convert\" onclick=\"convertToInteractive('df-9dbd5832-dfe1-46e2-8f2a-28258f396ea4')\"\n",
              "            title=\"Convert this dataframe to an interactive table.\"\n",
              "            style=\"display:none;\">\n",
              "\n",
              "  <svg xmlns=\"http://www.w3.org/2000/svg\" height=\"24px\" viewBox=\"0 -960 960 960\">\n",
              "    <path d=\"M120-120v-720h720v720H120Zm60-500h600v-160H180v160Zm220 220h160v-160H400v160Zm0 220h160v-160H400v160ZM180-400h160v-160H180v160Zm440 0h160v-160H620v160ZM180-180h160v-160H180v160Zm440 0h160v-160H620v160Z\"/>\n",
              "  </svg>\n",
              "    </button>\n",
              "\n",
              "  <style>\n",
              "    .colab-df-container {\n",
              "      display:flex;\n",
              "      gap: 12px;\n",
              "    }\n",
              "\n",
              "    .colab-df-convert {\n",
              "      background-color: #E8F0FE;\n",
              "      border: none;\n",
              "      border-radius: 50%;\n",
              "      cursor: pointer;\n",
              "      display: none;\n",
              "      fill: #1967D2;\n",
              "      height: 32px;\n",
              "      padding: 0 0 0 0;\n",
              "      width: 32px;\n",
              "    }\n",
              "\n",
              "    .colab-df-convert:hover {\n",
              "      background-color: #E2EBFA;\n",
              "      box-shadow: 0px 1px 2px rgba(60, 64, 67, 0.3), 0px 1px 3px 1px rgba(60, 64, 67, 0.15);\n",
              "      fill: #174EA6;\n",
              "    }\n",
              "\n",
              "    .colab-df-buttons div {\n",
              "      margin-bottom: 4px;\n",
              "    }\n",
              "\n",
              "    [theme=dark] .colab-df-convert {\n",
              "      background-color: #3B4455;\n",
              "      fill: #D2E3FC;\n",
              "    }\n",
              "\n",
              "    [theme=dark] .colab-df-convert:hover {\n",
              "      background-color: #434B5C;\n",
              "      box-shadow: 0px 1px 3px 1px rgba(0, 0, 0, 0.15);\n",
              "      filter: drop-shadow(0px 1px 2px rgba(0, 0, 0, 0.3));\n",
              "      fill: #FFFFFF;\n",
              "    }\n",
              "  </style>\n",
              "\n",
              "    <script>\n",
              "      const buttonEl =\n",
              "        document.querySelector('#df-9dbd5832-dfe1-46e2-8f2a-28258f396ea4 button.colab-df-convert');\n",
              "      buttonEl.style.display =\n",
              "        google.colab.kernel.accessAllowed ? 'block' : 'none';\n",
              "\n",
              "      async function convertToInteractive(key) {\n",
              "        const element = document.querySelector('#df-9dbd5832-dfe1-46e2-8f2a-28258f396ea4');\n",
              "        const dataTable =\n",
              "          await google.colab.kernel.invokeFunction('convertToInteractive',\n",
              "                                                    [key], {});\n",
              "        if (!dataTable) return;\n",
              "\n",
              "        const docLinkHtml = 'Like what you see? Visit the ' +\n",
              "          '<a target=\"_blank\" href=https://colab.research.google.com/notebooks/data_table.ipynb>data table notebook</a>'\n",
              "          + ' to learn more about interactive tables.';\n",
              "        element.innerHTML = '';\n",
              "        dataTable['output_type'] = 'display_data';\n",
              "        await google.colab.output.renderOutput(dataTable, element);\n",
              "        const docLink = document.createElement('div');\n",
              "        docLink.innerHTML = docLinkHtml;\n",
              "        element.appendChild(docLink);\n",
              "      }\n",
              "    </script>\n",
              "  </div>\n",
              "\n",
              "\n",
              "<div id=\"df-193c21b3-5619-4973-90e5-9b37e3d3eac2\">\n",
              "  <button class=\"colab-df-quickchart\" onclick=\"quickchart('df-193c21b3-5619-4973-90e5-9b37e3d3eac2')\"\n",
              "            title=\"Suggest charts\"\n",
              "            style=\"display:none;\">\n",
              "\n",
              "<svg xmlns=\"http://www.w3.org/2000/svg\" height=\"24px\"viewBox=\"0 0 24 24\"\n",
              "     width=\"24px\">\n",
              "    <g>\n",
              "        <path d=\"M19 3H5c-1.1 0-2 .9-2 2v14c0 1.1.9 2 2 2h14c1.1 0 2-.9 2-2V5c0-1.1-.9-2-2-2zM9 17H7v-7h2v7zm4 0h-2V7h2v10zm4 0h-2v-4h2v4z\"/>\n",
              "    </g>\n",
              "</svg>\n",
              "  </button>\n",
              "\n",
              "<style>\n",
              "  .colab-df-quickchart {\n",
              "      --bg-color: #E8F0FE;\n",
              "      --fill-color: #1967D2;\n",
              "      --hover-bg-color: #E2EBFA;\n",
              "      --hover-fill-color: #174EA6;\n",
              "      --disabled-fill-color: #AAA;\n",
              "      --disabled-bg-color: #DDD;\n",
              "  }\n",
              "\n",
              "  [theme=dark] .colab-df-quickchart {\n",
              "      --bg-color: #3B4455;\n",
              "      --fill-color: #D2E3FC;\n",
              "      --hover-bg-color: #434B5C;\n",
              "      --hover-fill-color: #FFFFFF;\n",
              "      --disabled-bg-color: #3B4455;\n",
              "      --disabled-fill-color: #666;\n",
              "  }\n",
              "\n",
              "  .colab-df-quickchart {\n",
              "    background-color: var(--bg-color);\n",
              "    border: none;\n",
              "    border-radius: 50%;\n",
              "    cursor: pointer;\n",
              "    display: none;\n",
              "    fill: var(--fill-color);\n",
              "    height: 32px;\n",
              "    padding: 0;\n",
              "    width: 32px;\n",
              "  }\n",
              "\n",
              "  .colab-df-quickchart:hover {\n",
              "    background-color: var(--hover-bg-color);\n",
              "    box-shadow: 0 1px 2px rgba(60, 64, 67, 0.3), 0 1px 3px 1px rgba(60, 64, 67, 0.15);\n",
              "    fill: var(--button-hover-fill-color);\n",
              "  }\n",
              "\n",
              "  .colab-df-quickchart-complete:disabled,\n",
              "  .colab-df-quickchart-complete:disabled:hover {\n",
              "    background-color: var(--disabled-bg-color);\n",
              "    fill: var(--disabled-fill-color);\n",
              "    box-shadow: none;\n",
              "  }\n",
              "\n",
              "  .colab-df-spinner {\n",
              "    border: 2px solid var(--fill-color);\n",
              "    border-color: transparent;\n",
              "    border-bottom-color: var(--fill-color);\n",
              "    animation:\n",
              "      spin 1s steps(1) infinite;\n",
              "  }\n",
              "\n",
              "  @keyframes spin {\n",
              "    0% {\n",
              "      border-color: transparent;\n",
              "      border-bottom-color: var(--fill-color);\n",
              "      border-left-color: var(--fill-color);\n",
              "    }\n",
              "    20% {\n",
              "      border-color: transparent;\n",
              "      border-left-color: var(--fill-color);\n",
              "      border-top-color: var(--fill-color);\n",
              "    }\n",
              "    30% {\n",
              "      border-color: transparent;\n",
              "      border-left-color: var(--fill-color);\n",
              "      border-top-color: var(--fill-color);\n",
              "      border-right-color: var(--fill-color);\n",
              "    }\n",
              "    40% {\n",
              "      border-color: transparent;\n",
              "      border-right-color: var(--fill-color);\n",
              "      border-top-color: var(--fill-color);\n",
              "    }\n",
              "    60% {\n",
              "      border-color: transparent;\n",
              "      border-right-color: var(--fill-color);\n",
              "    }\n",
              "    80% {\n",
              "      border-color: transparent;\n",
              "      border-right-color: var(--fill-color);\n",
              "      border-bottom-color: var(--fill-color);\n",
              "    }\n",
              "    90% {\n",
              "      border-color: transparent;\n",
              "      border-bottom-color: var(--fill-color);\n",
              "    }\n",
              "  }\n",
              "</style>\n",
              "\n",
              "  <script>\n",
              "    async function quickchart(key) {\n",
              "      const quickchartButtonEl =\n",
              "        document.querySelector('#' + key + ' button');\n",
              "      quickchartButtonEl.disabled = true;  // To prevent multiple clicks.\n",
              "      quickchartButtonEl.classList.add('colab-df-spinner');\n",
              "      try {\n",
              "        const charts = await google.colab.kernel.invokeFunction(\n",
              "            'suggestCharts', [key], {});\n",
              "      } catch (error) {\n",
              "        console.error('Error during call to suggestCharts:', error);\n",
              "      }\n",
              "      quickchartButtonEl.classList.remove('colab-df-spinner');\n",
              "      quickchartButtonEl.classList.add('colab-df-quickchart-complete');\n",
              "    }\n",
              "    (() => {\n",
              "      let quickchartButtonEl =\n",
              "        document.querySelector('#df-193c21b3-5619-4973-90e5-9b37e3d3eac2 button');\n",
              "      quickchartButtonEl.style.display =\n",
              "        google.colab.kernel.accessAllowed ? 'block' : 'none';\n",
              "    })();\n",
              "  </script>\n",
              "</div>\n",
              "\n",
              "  <div id=\"id_68657e3c-75ef-49c4-8275-71a984f01445\">\n",
              "    <style>\n",
              "      .colab-df-generate {\n",
              "        background-color: #E8F0FE;\n",
              "        border: none;\n",
              "        border-radius: 50%;\n",
              "        cursor: pointer;\n",
              "        display: none;\n",
              "        fill: #1967D2;\n",
              "        height: 32px;\n",
              "        padding: 0 0 0 0;\n",
              "        width: 32px;\n",
              "      }\n",
              "\n",
              "      .colab-df-generate:hover {\n",
              "        background-color: #E2EBFA;\n",
              "        box-shadow: 0px 1px 2px rgba(60, 64, 67, 0.3), 0px 1px 3px 1px rgba(60, 64, 67, 0.15);\n",
              "        fill: #174EA6;\n",
              "      }\n",
              "\n",
              "      [theme=dark] .colab-df-generate {\n",
              "        background-color: #3B4455;\n",
              "        fill: #D2E3FC;\n",
              "      }\n",
              "\n",
              "      [theme=dark] .colab-df-generate:hover {\n",
              "        background-color: #434B5C;\n",
              "        box-shadow: 0px 1px 3px 1px rgba(0, 0, 0, 0.15);\n",
              "        filter: drop-shadow(0px 1px 2px rgba(0, 0, 0, 0.3));\n",
              "        fill: #FFFFFF;\n",
              "      }\n",
              "    </style>\n",
              "    <button class=\"colab-df-generate\" onclick=\"generateWithVariable('gender')\"\n",
              "            title=\"Generate code using this dataframe.\"\n",
              "            style=\"display:none;\">\n",
              "\n",
              "  <svg xmlns=\"http://www.w3.org/2000/svg\" height=\"24px\"viewBox=\"0 0 24 24\"\n",
              "       width=\"24px\">\n",
              "    <path d=\"M7,19H8.4L18.45,9,17,7.55,7,17.6ZM5,21V16.75L18.45,3.32a2,2,0,0,1,2.83,0l1.4,1.43a1.91,1.91,0,0,1,.58,1.4,1.91,1.91,0,0,1-.58,1.4L9.25,21ZM18.45,9,17,7.55Zm-12,3A5.31,5.31,0,0,0,4.9,8.1,5.31,5.31,0,0,0,1,6.5,5.31,5.31,0,0,0,4.9,4.9,5.31,5.31,0,0,0,6.5,1,5.31,5.31,0,0,0,8.1,4.9,5.31,5.31,0,0,0,12,6.5,5.46,5.46,0,0,0,6.5,12Z\"/>\n",
              "  </svg>\n",
              "    </button>\n",
              "    <script>\n",
              "      (() => {\n",
              "      const buttonEl =\n",
              "        document.querySelector('#id_68657e3c-75ef-49c4-8275-71a984f01445 button.colab-df-generate');\n",
              "      buttonEl.style.display =\n",
              "        google.colab.kernel.accessAllowed ? 'block' : 'none';\n",
              "\n",
              "      buttonEl.onclick = () => {\n",
              "        google.colab.notebook.generateWithVariable('gender');\n",
              "      }\n",
              "      })();\n",
              "    </script>\n",
              "  </div>\n",
              "\n",
              "    </div>\n",
              "  </div>\n"
            ]
          },
          "metadata": {},
          "execution_count": 42
        }
      ],
      "source": [
        "gender"
      ]
    },
    {
      "cell_type": "code",
      "execution_count": 43,
      "metadata": {
        "id": "WCV8mWSL9VeX"
      },
      "outputs": [],
      "source": [
        "## CONCATENATE THESE VAR WITH DF\n"
      ]
    },
    {
      "cell_type": "code",
      "execution_count": 44,
      "metadata": {
        "id": "zAY6s3nQ-mYY"
      },
      "outputs": [],
      "source": [
        "X=X.drop(['Geography','Gender'], axis=1)"
      ]
    },
    {
      "cell_type": "code",
      "execution_count": 45,
      "metadata": {
        "id": "MZqa2yNn-w1m"
      },
      "outputs": [],
      "source": [
        "X=pd.concat([X,geography,gender], axis=1)"
      ]
    },
    {
      "cell_type": "code",
      "execution_count": 46,
      "metadata": {
        "id": "Cp_jsAqR_Mcx"
      },
      "outputs": [],
      "source": [
        "## SPlitting the df into training and test state"
      ]
    },
    {
      "cell_type": "code",
      "execution_count": 47,
      "metadata": {
        "id": "gxEU1zPX_dcd"
      },
      "outputs": [],
      "source": [
        "from sklearn.model_selection import train_test_split"
      ]
    },
    {
      "cell_type": "code",
      "execution_count": 48,
      "metadata": {
        "id": "K1m7lLjq_k7o"
      },
      "outputs": [],
      "source": [
        "X_train,X_test,y_train,y_test =train_test_split(X,y, test_size=0.15,random_state=2)"
      ]
    },
    {
      "cell_type": "code",
      "execution_count": 49,
      "metadata": {
        "id": "pcUhS2JE_10l"
      },
      "outputs": [],
      "source": [
        "#Feature scaling\n",
        "from sklearn.preprocessing import StandardScaler\n",
        "sc= StandardScaler()\n",
        "X_train = sc.fit_transform(X_train)\n",
        "X_test = sc.transform(X_test)"
      ]
    },
    {
      "cell_type": "code",
      "execution_count": 50,
      "metadata": {
        "colab": {
          "base_uri": "https://localhost:8080/"
        },
        "id": "L-nnTH_TBLns",
        "outputId": "764b1eeb-1e95-4247-a08e-b6409d5f3a34"
      },
      "outputs": [
        {
          "output_type": "execute_result",
          "data": {
            "text/plain": [
              "array([[ 0.83700054, -0.09148023,  1.72096942, ..., -0.5855015 ,\n",
              "        -0.57390878, -1.08527045],\n",
              "       [-0.04938797,  0.19359198, -1.04507768, ...,  1.70793755,\n",
              "        -0.57390878, -1.08527045],\n",
              "       [-0.32767273,  1.61895303,  0.68370176, ..., -0.5855015 ,\n",
              "        -0.57390878,  0.92142931],\n",
              "       ...,\n",
              "       [ 2.06351487,  0.66871233,  1.37521353, ..., -0.5855015 ,\n",
              "        -0.57390878,  0.92142931],\n",
              "       [-0.07000165, -0.85167279, -0.00781002, ..., -0.5855015 ,\n",
              "        -0.57390878,  0.92142931],\n",
              "       [-0.32767273, -0.09148023, -0.00781002, ..., -0.5855015 ,\n",
              "         1.74243719,  0.92142931]])"
            ]
          },
          "metadata": {},
          "execution_count": 50
        }
      ],
      "source": [
        "X_test"
      ]
    },
    {
      "cell_type": "code",
      "execution_count": 51,
      "metadata": {
        "colab": {
          "base_uri": "https://localhost:8080/"
        },
        "id": "p_aWSdWcBYBU",
        "outputId": "40345742-b3d2-409e-e2b2-51fc6e2a9ba5"
      },
      "outputs": [
        {
          "output_type": "execute_result",
          "data": {
            "text/plain": [
              "(8500, 11)"
            ]
          },
          "metadata": {},
          "execution_count": 51
        }
      ],
      "source": [
        "X_train.shape"
      ]
    },
    {
      "cell_type": "markdown",
      "metadata": {
        "id": "2Ar8WbvdDO6M"
      },
      "source": [
        "Create ANN\n"
      ]
    },
    {
      "cell_type": "code",
      "execution_count": 52,
      "metadata": {
        "id": "NJ2SkhPcBeLw"
      },
      "outputs": [],
      "source": [
        "from tensorflow.keras.models import Sequential\n",
        "from tensorflow.keras.layers import Dense\n",
        "from tensorflow.keras.layers import LeakyReLU,PReLU,ELU,ReLU\n",
        "from tensorflow.keras.layers import Dropout"
      ]
    },
    {
      "cell_type": "markdown",
      "metadata": {
        "id": "YmvhY4-SDKW7"
      },
      "source": []
    },
    {
      "cell_type": "code",
      "source": [
        "## Let's initialize ANN"
      ],
      "metadata": {
        "id": "ETp8FDCDaGz3"
      },
      "execution_count": 53,
      "outputs": []
    },
    {
      "cell_type": "code",
      "source": [
        "classifier= Sequential()"
      ],
      "metadata": {
        "id": "ReW-YQqianir"
      },
      "execution_count": 54,
      "outputs": []
    },
    {
      "cell_type": "code",
      "source": [
        "#Adding the input layer"
      ],
      "metadata": {
        "id": "qoQhnLlDaq6F"
      },
      "execution_count": 55,
      "outputs": []
    },
    {
      "cell_type": "code",
      "source": [
        "classifier.add(Dense(units=11,activation='relu'))"
      ],
      "metadata": {
        "id": "Fq8xfkSmauAN"
      },
      "execution_count": 56,
      "outputs": []
    },
    {
      "cell_type": "code",
      "source": [
        "## Adding first hidden layer\n",
        "classifier.add(Dense(units=7,activation='relu'))\n",
        "classifier.add(Dropout(0.2))"
      ],
      "metadata": {
        "id": "J1Rc0Rona9mR"
      },
      "execution_count": 75,
      "outputs": []
    },
    {
      "cell_type": "code",
      "source": [
        "## Adding 2nd hidden layer\n",
        "classifier.add(Dense(units=11,activation='relu'))\n",
        "classifier.add(Dropout(0.25))"
      ],
      "metadata": {
        "id": "bbNT3lSpbHfY"
      },
      "execution_count": 77,
      "outputs": []
    },
    {
      "cell_type": "code",
      "source": [
        "## Adding O/P hidden layer"
      ],
      "metadata": {
        "id": "WkemWU2RbRtg"
      },
      "execution_count": 78,
      "outputs": []
    },
    {
      "cell_type": "code",
      "source": [
        "classifier.add(Dense(units=1,activation='sigmoid'))"
      ],
      "metadata": {
        "id": "KtF80BuDdM5S"
      },
      "execution_count": 79,
      "outputs": []
    },
    {
      "cell_type": "code",
      "source": [
        "import tensorflow\n",
        "opt = tensorflow.keras.optimizers.Adam(learning_rate=0.01)"
      ],
      "metadata": {
        "id": "Ix370NbCdv80"
      },
      "execution_count": 80,
      "outputs": []
    },
    {
      "cell_type": "code",
      "source": [
        "classifier.compile(optimizer=opt, loss='binary_crossentropy', metrics=['accuracy'])"
      ],
      "metadata": {
        "id": "u3aqiArBdS3c"
      },
      "execution_count": 81,
      "outputs": []
    },
    {
      "cell_type": "code",
      "source": [
        "model_history = classifier.fit(X_train,y_train,validation_split=0.33,batch_size=10,epochs=50)"
      ],
      "metadata": {
        "id": "OrRF3TfUdk4-",
        "colab": {
          "base_uri": "https://localhost:8080/"
        },
        "outputId": "c5aba207-0253-469c-cf7a-c12416bf4bdf"
      },
      "execution_count": 82,
      "outputs": [
        {
          "output_type": "stream",
          "name": "stdout",
          "text": [
            "Epoch 1/50\n",
            "570/570 [==============================] - 6s 5ms/step - loss: 0.4640 - accuracy: 0.7884 - val_loss: 0.4176 - val_accuracy: 0.7986\n",
            "Epoch 2/50\n",
            "570/570 [==============================] - 3s 5ms/step - loss: 0.4434 - accuracy: 0.7889 - val_loss: 0.4108 - val_accuracy: 0.7986\n",
            "Epoch 3/50\n",
            "570/570 [==============================] - 3s 6ms/step - loss: 0.4405 - accuracy: 0.7889 - val_loss: 0.4125 - val_accuracy: 0.7986\n",
            "Epoch 4/50\n",
            "570/570 [==============================] - 3s 5ms/step - loss: 0.4300 - accuracy: 0.7889 - val_loss: 0.4096 - val_accuracy: 0.7986\n",
            "Epoch 5/50\n",
            "570/570 [==============================] - 3s 5ms/step - loss: 0.4351 - accuracy: 0.7889 - val_loss: 0.4046 - val_accuracy: 0.7986\n",
            "Epoch 6/50\n",
            "570/570 [==============================] - 3s 5ms/step - loss: 0.4277 - accuracy: 0.7889 - val_loss: 0.4014 - val_accuracy: 0.7986\n",
            "Epoch 7/50\n",
            "570/570 [==============================] - 4s 7ms/step - loss: 0.4324 - accuracy: 0.7889 - val_loss: 0.4062 - val_accuracy: 0.7986\n",
            "Epoch 8/50\n",
            "570/570 [==============================] - 3s 5ms/step - loss: 0.4324 - accuracy: 0.7889 - val_loss: 0.4016 - val_accuracy: 0.7986\n",
            "Epoch 9/50\n",
            "570/570 [==============================] - 3s 5ms/step - loss: 0.4366 - accuracy: 0.7889 - val_loss: 0.4179 - val_accuracy: 0.7986\n",
            "Epoch 10/50\n",
            "570/570 [==============================] - 3s 5ms/step - loss: 0.4368 - accuracy: 0.7889 - val_loss: 0.4123 - val_accuracy: 0.7986\n",
            "Epoch 11/50\n",
            "570/570 [==============================] - 3s 6ms/step - loss: 0.4327 - accuracy: 0.7889 - val_loss: 0.3968 - val_accuracy: 0.7986\n",
            "Epoch 12/50\n",
            "570/570 [==============================] - 3s 5ms/step - loss: 0.4358 - accuracy: 0.7889 - val_loss: 0.3959 - val_accuracy: 0.7986\n",
            "Epoch 13/50\n",
            "570/570 [==============================] - 3s 5ms/step - loss: 0.4273 - accuracy: 0.7889 - val_loss: 0.3918 - val_accuracy: 0.7986\n",
            "Epoch 14/50\n",
            "570/570 [==============================] - 3s 5ms/step - loss: 0.4259 - accuracy: 0.7889 - val_loss: 0.4018 - val_accuracy: 0.7986\n",
            "Epoch 15/50\n",
            "570/570 [==============================] - 3s 6ms/step - loss: 0.4322 - accuracy: 0.7889 - val_loss: 0.3999 - val_accuracy: 0.7986\n",
            "Epoch 16/50\n",
            "570/570 [==============================] - 3s 5ms/step - loss: 0.4343 - accuracy: 0.7889 - val_loss: 0.3988 - val_accuracy: 0.7986\n",
            "Epoch 17/50\n",
            "570/570 [==============================] - 3s 5ms/step - loss: 0.4340 - accuracy: 0.7889 - val_loss: 0.3994 - val_accuracy: 0.7986\n",
            "Epoch 18/50\n",
            "570/570 [==============================] - 3s 5ms/step - loss: 0.4302 - accuracy: 0.7889 - val_loss: 0.4085 - val_accuracy: 0.7986\n",
            "Epoch 19/50\n",
            "570/570 [==============================] - 3s 5ms/step - loss: 0.4309 - accuracy: 0.7889 - val_loss: 0.4046 - val_accuracy: 0.7986\n",
            "Epoch 20/50\n",
            "570/570 [==============================] - 3s 5ms/step - loss: 0.4280 - accuracy: 0.7889 - val_loss: 0.3959 - val_accuracy: 0.7986\n",
            "Epoch 21/50\n",
            "570/570 [==============================] - 3s 5ms/step - loss: 0.4359 - accuracy: 0.7889 - val_loss: 0.4090 - val_accuracy: 0.7986\n",
            "Epoch 22/50\n",
            "570/570 [==============================] - 4s 6ms/step - loss: 0.4329 - accuracy: 0.7889 - val_loss: 0.3976 - val_accuracy: 0.7986\n",
            "Epoch 23/50\n",
            "570/570 [==============================] - 3s 6ms/step - loss: 0.4260 - accuracy: 0.7889 - val_loss: 0.3985 - val_accuracy: 0.7986\n",
            "Epoch 24/50\n",
            "570/570 [==============================] - 3s 5ms/step - loss: 0.4362 - accuracy: 0.7889 - val_loss: 0.4039 - val_accuracy: 0.7986\n",
            "Epoch 25/50\n",
            "570/570 [==============================] - 3s 5ms/step - loss: 0.4246 - accuracy: 0.7889 - val_loss: 0.3909 - val_accuracy: 0.7986\n",
            "Epoch 26/50\n",
            "570/570 [==============================] - 3s 6ms/step - loss: 0.4333 - accuracy: 0.7889 - val_loss: 0.3970 - val_accuracy: 0.7986\n",
            "Epoch 27/50\n",
            "570/570 [==============================] - 3s 5ms/step - loss: 0.4325 - accuracy: 0.7889 - val_loss: 0.4087 - val_accuracy: 0.7986\n",
            "Epoch 28/50\n",
            "570/570 [==============================] - 3s 5ms/step - loss: 0.4283 - accuracy: 0.7889 - val_loss: 0.4000 - val_accuracy: 0.7986\n",
            "Epoch 29/50\n",
            "570/570 [==============================] - 3s 5ms/step - loss: 0.4269 - accuracy: 0.7889 - val_loss: 0.4089 - val_accuracy: 0.7986\n",
            "Epoch 30/50\n",
            "570/570 [==============================] - 3s 6ms/step - loss: 0.4284 - accuracy: 0.7889 - val_loss: 0.4058 - val_accuracy: 0.7986\n",
            "Epoch 31/50\n",
            "570/570 [==============================] - 3s 5ms/step - loss: 0.4334 - accuracy: 0.7889 - val_loss: 0.3968 - val_accuracy: 0.7986\n",
            "Epoch 32/50\n",
            "570/570 [==============================] - 3s 5ms/step - loss: 0.4330 - accuracy: 0.7889 - val_loss: 0.4113 - val_accuracy: 0.7986\n",
            "Epoch 33/50\n",
            "570/570 [==============================] - 3s 5ms/step - loss: 0.4326 - accuracy: 0.7889 - val_loss: 0.4221 - val_accuracy: 0.7986\n",
            "Epoch 34/50\n",
            "570/570 [==============================] - 4s 6ms/step - loss: 0.4333 - accuracy: 0.7889 - val_loss: 0.4148 - val_accuracy: 0.7986\n",
            "Epoch 35/50\n",
            "570/570 [==============================] - 3s 5ms/step - loss: 0.4310 - accuracy: 0.7889 - val_loss: 0.4088 - val_accuracy: 0.7986\n",
            "Epoch 36/50\n",
            "570/570 [==============================] - 3s 5ms/step - loss: 0.4303 - accuracy: 0.7889 - val_loss: 0.4179 - val_accuracy: 0.7986\n",
            "Epoch 37/50\n",
            "570/570 [==============================] - 3s 5ms/step - loss: 0.4301 - accuracy: 0.7889 - val_loss: 0.4081 - val_accuracy: 0.7986\n",
            "Epoch 38/50\n",
            "570/570 [==============================] - 3s 6ms/step - loss: 0.4333 - accuracy: 0.7889 - val_loss: 0.4107 - val_accuracy: 0.7986\n",
            "Epoch 39/50\n",
            "570/570 [==============================] - 3s 5ms/step - loss: 0.4278 - accuracy: 0.7889 - val_loss: 0.4027 - val_accuracy: 0.7986\n",
            "Epoch 40/50\n",
            "570/570 [==============================] - 3s 5ms/step - loss: 0.4348 - accuracy: 0.7889 - val_loss: 0.4026 - val_accuracy: 0.7986\n",
            "Epoch 41/50\n",
            "570/570 [==============================] - 3s 5ms/step - loss: 0.4315 - accuracy: 0.7889 - val_loss: 0.4076 - val_accuracy: 0.7986\n",
            "Epoch 42/50\n",
            "570/570 [==============================] - 3s 6ms/step - loss: 0.4318 - accuracy: 0.7889 - val_loss: 0.4071 - val_accuracy: 0.7986\n",
            "Epoch 43/50\n",
            "570/570 [==============================] - 3s 5ms/step - loss: 0.4331 - accuracy: 0.7889 - val_loss: 0.4183 - val_accuracy: 0.7986\n",
            "Epoch 44/50\n",
            "570/570 [==============================] - 3s 5ms/step - loss: 0.4374 - accuracy: 0.7889 - val_loss: 0.4167 - val_accuracy: 0.7986\n",
            "Epoch 45/50\n",
            "570/570 [==============================] - 3s 5ms/step - loss: 0.4339 - accuracy: 0.7889 - val_loss: 0.4016 - val_accuracy: 0.7986\n",
            "Epoch 46/50\n",
            "570/570 [==============================] - 3s 6ms/step - loss: 0.4324 - accuracy: 0.7889 - val_loss: 0.4036 - val_accuracy: 0.7986\n",
            "Epoch 47/50\n",
            "570/570 [==============================] - 3s 5ms/step - loss: 0.4283 - accuracy: 0.7889 - val_loss: 0.4058 - val_accuracy: 0.7986\n",
            "Epoch 48/50\n",
            "570/570 [==============================] - 3s 5ms/step - loss: 0.4311 - accuracy: 0.7889 - val_loss: 0.4013 - val_accuracy: 0.7986\n",
            "Epoch 49/50\n",
            "570/570 [==============================] - 3s 5ms/step - loss: 0.4262 - accuracy: 0.7889 - val_loss: 0.4068 - val_accuracy: 0.7986\n",
            "Epoch 50/50\n",
            "570/570 [==============================] - 3s 6ms/step - loss: 0.4357 - accuracy: 0.7889 - val_loss: 0.4206 - val_accuracy: 0.7986\n"
          ]
        }
      ]
    },
    {
      "cell_type": "code",
      "source": [
        "model_history.history.keys()"
      ],
      "metadata": {
        "id": "PVaw580SGZBm",
        "colab": {
          "base_uri": "https://localhost:8080/"
        },
        "outputId": "2cc58d9b-ebc7-483d-8045-462376aa78ce"
      },
      "execution_count": 83,
      "outputs": [
        {
          "output_type": "execute_result",
          "data": {
            "text/plain": [
              "dict_keys(['loss', 'accuracy', 'val_loss', 'val_accuracy'])"
            ]
          },
          "metadata": {},
          "execution_count": 83
        }
      ]
    },
    {
      "cell_type": "code",
      "source": [
        "plt.plot(model_history.history['accuracy'])\n",
        "plt.plot(model_history.history['val_accuracy'])\n",
        "plt.title('model accuracy')\n",
        "plt.ylabel('accuracy')\n",
        "plt.xlabel('epoch')\n",
        "plt.legend(['train','test'],loc='upper left')\n",
        "plt.show()"
      ],
      "metadata": {
        "id": "0ONwUL-LH6hW",
        "colab": {
          "base_uri": "https://localhost:8080/",
          "height": 472
        },
        "outputId": "fa09fde8-15e2-4471-f57e-10002440a279"
      },
      "execution_count": 84,
      "outputs": [
        {
          "output_type": "display_data",
          "data": {
            "text/plain": [
              "<Figure size 640x480 with 1 Axes>"
            ],
            "image/png": "[encoded data removed]"
          },
          "metadata": {}
        }
      ]
    },
    {
      "cell_type": "code",
      "source": [
        "plt.plot(model_history.history['loss'])\n",
        "plt.plot(model_history.history['val_loss'])\n",
        "plt.title('model loss')\n",
        "plt.ylabel('loss')\n",
        "plt.xlabel('epoch')\n",
        "plt.legend(['train','test'],loc='upper left')\n",
        "plt.show()"
      ],
      "metadata": {
        "colab": {
          "base_uri": "https://localhost:8080/",
          "height": 472
        },
        "id": "QJtRQ-hLjSns",
        "outputId": "6307b132-90c2-4f36-b0b6-78b67d5a3d4e"
      },
      "execution_count": 85,
      "outputs": [
        {
          "output_type": "display_data",
          "data": {
            "text/plain": [
              "<Figure size 640x480 with 1 Axes>"
            ],
            "image/png": "[encoded data removed]"
          },
          "metadata": {}
        }
      ]
    },
    {
      "cell_type": "code",
      "source": [
        "y_pred = classifier.predict(X_test)\n",
        "y_pred=(y_pred>=0.5)"
      ],
      "metadata": {
        "colab": {
          "base_uri": "https://localhost:8080/"
        },
        "id": "LuITC1ZWkL8r",
        "outputId": "20cc58b0-6d31-4044-a45a-8354a63599ea"
      },
      "execution_count": 86,
      "outputs": [
        {
          "output_type": "stream",
          "name": "stdout",
          "text": [
            "47/47 [==============================] - 0s 3ms/step\n"
          ]
        }
      ]
    },
    {
      "cell_type": "code",
      "source": [
        "from sklearn.metrics import confusion_matrix\n",
        "cm = confusion_matrix(y_test,y_pred)"
      ],
      "metadata": {
        "id": "qvsFoYXDkmST"
      },
      "execution_count": 87,
      "outputs": []
    },
    {
      "cell_type": "code",
      "source": [
        "cm"
      ],
      "metadata": {
        "colab": {
          "base_uri": "https://localhost:8080/"
        },
        "id": "Hb14Mkfdk5lV",
        "outputId": "315f5f06-f3dd-4d4d-dced-76abb8d94087"
      },
      "execution_count": 88,
      "outputs": [
        {
          "output_type": "execute_result",
          "data": {
            "text/plain": [
              "array([[1230,    0],\n",
              "       [ 270,    0]])"
            ]
          },
          "metadata": {},
          "execution_count": 88
        }
      ]
    },
    {
      "cell_type": "code",
      "source": [
        "from sklearn.metrics import accuracy_score\n",
        "score=accuracy_score(y_pred,y_test)"
      ],
      "metadata": {
        "id": "vYXgKz1Vk6id"
      },
      "execution_count": 89,
      "outputs": []
    },
    {
      "cell_type": "code",
      "source": [
        "score"
      ],
      "metadata": {
        "colab": {
          "base_uri": "https://localhost:8080/"
        },
        "id": "0sle6CR-lKjH",
        "outputId": "e8651535-a302-4d3f-906d-600f25ddf9dd"
      },
      "execution_count": 90,
      "outputs": [
        {
          "output_type": "execute_result",
          "data": {
            "text/plain": [
              "0.82"
            ]
          },
          "metadata": {},
          "execution_count": 90
        }
      ]
    },
    {
      "cell_type": "code",
      "source": [
        "##get the weights"
      ],
      "metadata": {
        "id": "faWn0jc4lLo2"
      },
      "execution_count": 91,
      "outputs": []
    },
    {
      "cell_type": "code",
      "source": [
        "classifier.get_weights()"
      ],
      "metadata": {
        "colab": {
          "base_uri": "https://localhost:8080/"
        },
        "id": "9CXLqSihlTub",
        "outputId": "ba6b4bdd-0c27-4a98-9697-07513d62e7b7"
      },
      "execution_count": 92,
      "outputs": [
        {
          "output_type": "execute_result",
          "data": {
            "text/plain": [
              "[array([[-1.7039518e+00, -1.2728872e+00, -9.9772596e-01, -1.0214577e+00,\n",
              "          3.1972213e+00, -1.7344813e-01, -6.1059910e-01,  1.3422303e+00,\n",
              "         -1.7444915e+00, -2.0151669e-01, -1.8260268e+00],\n",
              "        [ 1.1702125e+00, -2.2459319e+00, -3.7262051e+00, -3.5615423e+00,\n",
              "         -1.4996554e+00,  2.1148350e+00, -3.0560303e+00, -1.9257163e+00,\n",
              "          2.5869644e+00,  3.6181788e+00, -8.9449424e-01],\n",
              "        [-1.9250350e-01,  1.7095158e+00,  1.4106001e+00, -1.5816728e+00,\n",
              "          1.5014517e-02, -7.9168218e-01, -2.2069509e+00,  1.0335706e+00,\n",
              "          2.7073315e-01,  2.1641959e-01,  2.9243228e+00],\n",
              "        [-3.4651828e+00, -2.3191226e+00, -5.2037370e-01, -3.9424777e+00,\n",
              "          1.2221918e+00,  2.0648704e+00,  3.8357174e+00, -6.6624606e-01,\n",
              "         -3.7508085e+00, -1.9570550e+00, -4.1274953e-01],\n",
              "        [-1.4122735e+00,  1.6426216e+00, -9.2284441e-02, -3.3417654e+00,\n",
              "         -3.8638857e-01,  6.4252744e+00, -1.6726235e+00,  4.8214374e+00,\n",
              "         -7.7131047e+00, -1.2927191e-01, -9.5370334e-01],\n",
              "        [ 7.2071832e-01,  1.8748411e+00, -4.3261918e-01, -1.5430988e+00,\n",
              "          2.1377823e+00,  1.0680134e+00,  5.6402636e-01, -8.5236526e-01,\n",
              "          1.9857426e-01,  7.2508734e-01,  1.2999200e+00],\n",
              "        [-5.0346887e-01,  3.2217050e-01, -1.1540358e+00,  1.6168071e+00,\n",
              "          2.7615030e+00,  1.7283501e-01, -4.5437494e-01,  1.1401536e+00,\n",
              "          7.5833248e-03,  3.5375204e+00,  4.5475445e+00],\n",
              "        [ 1.7782277e+00,  1.6149272e+00, -1.0195588e+00, -9.5544979e-02,\n",
              "          2.6790340e+00,  4.2576027e-01,  1.1038463e+00, -3.9013594e-01,\n",
              "          8.7947226e-01,  8.7071592e-01, -1.0483229e+00],\n",
              "        [-8.7050742e-01,  1.7804435e-01, -1.3441358e+00, -7.3643255e-01,\n",
              "          8.4922665e-01, -2.8493533e-01,  1.3605905e+00,  1.7177786e-01,\n",
              "          2.9182718e+00,  1.1643605e+00, -2.2561295e-02],\n",
              "        [ 1.1469719e+00, -6.0066980e-01, -2.3814231e-02, -2.4535005e+00,\n",
              "         -3.6781665e-02, -3.7993994e-02, -2.5156713e+00,  5.8094263e-01,\n",
              "         -6.2120724e-01, -7.6573575e-01,  1.1418215e+00],\n",
              "        [-1.8960780e+00,  3.1142292e+00,  6.2040687e-01, -1.9113497e-01,\n",
              "          1.1157178e+00, -3.6929351e-01, -1.0439485e+00,  1.0839673e+00,\n",
              "         -9.5606399e-01, -5.6251532e-01,  1.4564924e+00]], dtype=float32),\n",
              " array([-3.3502948 , -0.7108032 ,  4.4865813 ,  1.0350552 , -2.2588873 ,\n",
              "        -3.7640288 ,  1.3828152 , -2.9311738 , -0.96363115, -4.5965805 ,\n",
              "        -2.4015868 ], dtype=float32),\n",
              " array([[  1.6038157 ,   0.37247095,   1.0850519 ,  -1.2238916 ,\n",
              "          -1.7009469 ,  -7.7310634 ,   0.18212575],\n",
              "        [  2.6584027 ,   0.3535335 ,  -1.4024371 ,   1.7799183 ,\n",
              "           0.21073638,  -4.158867  ,   1.5217164 ],\n",
              "        [ -0.13323508,  -1.2480631 ,  -2.9292345 ,  -2.3682723 ,\n",
              "           1.598053  ,  -0.6099874 ,  -1.9619224 ],\n",
              "        [  0.3844277 ,  -3.6795843 ,  -3.9451644 ,   1.8741184 ,\n",
              "           0.5271865 ,  -6.6487327 ,  -0.2839668 ],\n",
              "        [  2.9973912 ,  -0.70986134,  -0.6508641 ,   2.0374093 ,\n",
              "           0.60769707,   1.0718989 ,  -3.3090105 ],\n",
              "        [ -3.947964  ,  -1.9391508 ,   1.0718595 ,  -1.8222772 ,\n",
              "          -0.01519554, -12.533352  ,   1.8607011 ],\n",
              "        [ -2.3542366 ,  -5.098449  ,  -1.193133  ,   0.76564264,\n",
              "           0.23362443,   1.7438245 ,  -1.151929  ],\n",
              "        [  0.74597746,   0.51224065,  -4.717762  ,   1.1589856 ,\n",
              "           0.5160277 ,  -6.4025664 ,   2.485237  ],\n",
              "        [ -5.0058484 ,   0.89939207,  -3.671207  ,  -3.0091145 ,\n",
              "          -2.4390323 ,  -0.74520385,   3.3016253 ],\n",
              "        [  1.7444687 ,   1.8594904 ,  -2.4762566 ,   0.67020035,\n",
              "          -4.820722  ,   0.24447711,  -3.5489283 ],\n",
              "        [  0.22905938,  -0.22054832,  -4.40983   ,  -1.0734388 ,\n",
              "           1.4559586 ,  -1.3985019 ,  -3.1402588 ]], dtype=float32),\n",
              " array([-4.161033  , -4.169023  , -1.0128714 , -0.05382774,  1.9597123 ,\n",
              "         3.3658144 , -0.6823949 ], dtype=float32),\n",
              " array([[-5.5892558e+00, -1.2670187e+00, -8.0179530e-01, -8.5787177e-01,\n",
              "         -6.1205685e-01, -2.3437810e+00, -1.0717759e+00, -9.8819005e-01,\n",
              "          1.0060439e+00,  1.0652283e+00, -8.4663771e-02],\n",
              "        [-4.9493332e+00, -5.4916757e-01, -6.9367111e-01, -1.0890735e+00,\n",
              "         -1.2564030e+00, -2.8755798e+00, -4.9136555e-01, -3.7461391e-01,\n",
              "          6.1239499e-01,  1.4624813e+00, -4.3680048e-01],\n",
              "        [ 5.6342447e-01,  5.3194024e-02, -3.7272847e-03,  4.2792570e-02,\n",
              "         -7.5954229e-01,  8.9521646e-01, -6.2801075e-01, -2.1101178e-01,\n",
              "         -1.4563458e+00, -6.5136999e-01, -1.2429475e-01],\n",
              "        [-4.3529615e+00, -6.3915920e-01, -1.4148961e+00, -1.4341524e+00,\n",
              "         -1.4847498e-01, -6.0437405e-01, -1.4281291e+00, -3.1104335e-01,\n",
              "          8.5073733e-01,  6.0683962e-02,  3.6359343e-01],\n",
              "        [-2.7061579e+00, -2.8503668e-01, -1.8499038e-01, -9.0924549e-01,\n",
              "         -4.1548306e-01, -9.3010330e-01, -2.1097502e-03, -2.0494299e-01,\n",
              "          3.7417734e-01, -2.7726924e-01, -1.2027810e+00],\n",
              "        [ 1.2638906e+00, -3.6518505e-01, -1.5448803e-01, -4.0121752e-01,\n",
              "         -7.8591436e-01, -1.6198752e+00, -3.1027848e-01, -2.9266417e-01,\n",
              "         -1.0540296e+00, -1.8934812e-01, -6.6190189e-01],\n",
              "        [ 8.8419676e-01, -1.0948377e-03, -7.2719753e-01, -6.0896575e-02,\n",
              "          5.1700169e-01,  1.9969283e+00, -7.7080506e-01, -6.4781678e-01,\n",
              "         -9.3005753e-01,  1.1338097e+00, -3.1719318e-01]], dtype=float32),\n",
              " array([ 0.98662007, -0.7414112 , -0.4068681 , -0.9141797 , -2.296544  ,\n",
              "        -1.7259439 , -0.11920893, -2.5019758 , -0.03927016, -3.503975  ,\n",
              "        -2.044867  ], dtype=float32),\n",
              " array([[-1.2640320e+00],\n",
              "        [-5.5425172e-03],\n",
              "        [ 1.1334653e-01],\n",
              "        [-1.2543161e-01],\n",
              "        [-3.7149194e-01],\n",
              "        [-3.9888614e-01],\n",
              "        [-8.8423923e-02],\n",
              "        [-1.6650818e-01],\n",
              "        [ 2.7203470e-01],\n",
              "        [ 2.7598375e-01],\n",
              "        [ 3.2822165e-04]], dtype=float32),\n",
              " array([-1.1281292], dtype=float32),\n",
              " array([[-0.7749517 , -0.53014195, -0.19203931, -0.66804326,  0.13283294,\n",
              "          1.995086  , -0.47064945]], dtype=float32),\n",
              " array([ 0.        ,  0.        ,  0.        ,  0.        , -0.15036692,\n",
              "        -0.15459405,  0.        ], dtype=float32),\n",
              " array([[ 0.06394935, -0.10572699, -0.0548315 , -0.21222746, -0.32170615,\n",
              "         -0.27252617, -0.46323356,  0.21815777, -0.4984334 , -0.03618324,\n",
              "          0.33980215],\n",
              "        [ 0.11100358, -0.01391059,  0.18918097,  0.45301116, -0.530618  ,\n",
              "          0.23667908, -0.11767635,  0.47139728,  0.27955586,  0.02225131,\n",
              "          0.43457007],\n",
              "        [ 0.20670736, -0.27919304,  0.5159328 , -0.38304663,  0.02392167,\n",
              "          0.43594027,  0.46869135,  0.23857087, -0.31789058,  0.23201782,\n",
              "         -0.20456058],\n",
              "        [ 0.07358414, -0.4758797 , -0.20001465,  0.37891734,  0.29232907,\n",
              "          0.49298775, -0.31793463,  0.02620792, -0.4886628 ,  0.32814586,\n",
              "          0.03240955],\n",
              "        [ 0.31014544,  0.34665656,  0.08995144, -0.14769858, -0.6021785 ,\n",
              "         -0.02392304,  0.47692615,  0.03927048,  0.5249252 , -0.5231813 ,\n",
              "          0.2736778 ],\n",
              "        [-0.23232397,  0.7802627 , -0.19601053, -0.02217722,  0.78249264,\n",
              "          0.74361736, -0.1424183 ,  0.701176  ,  0.69807994,  0.70023197,\n",
              "          0.07044154],\n",
              "        [-0.3254786 , -0.55617195,  0.24027926, -0.19008079,  0.09764123,\n",
              "         -0.5703899 ,  0.28579324, -0.54485565, -0.5102809 , -0.3839167 ,\n",
              "          0.2404319 ]], dtype=float32),\n",
              " array([-0.06005025, -0.13302334, -0.05558429,  0.        , -0.11681365,\n",
              "        -0.16282469, -0.08300828, -0.22820301, -0.10920919, -0.28648683,\n",
              "        -0.23372845], dtype=float32),\n",
              " array([[ 0.2661429 ],\n",
              "        [-0.30338275],\n",
              "        [ 0.5777554 ],\n",
              "        [ 0.32812935],\n",
              "        [-0.29305202],\n",
              "        [-0.26245335],\n",
              "        [-0.00526785],\n",
              "        [-0.21978422],\n",
              "        [-0.24191073],\n",
              "        [-0.28444216],\n",
              "        [ 0.75360733]], dtype=float32),\n",
              " array([-0.48146927], dtype=float32)]"
            ]
          },
          "metadata": {},
          "execution_count": 92
        }
      ]
    },
    {
      "cell_type": "code",
      "source": [],
      "metadata": {
        "id": "YELRb3AVlXl9"
      },
      "execution_count": null,
      "outputs": []
    }
  ],
  "metadata": {
    "accelerator": "GPU",
    "colab": {
      "provenance": [],
      "authorship_tag": "ABX9TyPRE9Vmt6YkGPkQPSVbKRLx",
      "include_colab_link": true
    },
    "kernelspec": {
      "display_name": "Python 3",
      "name": "python3"
    },
    "language_info": {
      "name": "python"
    }
  },
  "nbformat": 4,
  "nbformat_minor": 0
}